{
 "cells": [
  {
   "cell_type": "code",
   "execution_count": 1,
   "metadata": {},
   "outputs": [],
   "source": [
    "# import numpy as np\n",
    "Node_State= [[2,8,3], [1,6,4], [7,0,5]]"
   ]
  },
  {
   "cell_type": "code",
   "execution_count": null,
   "metadata": {},
   "outputs": [],
   "source": [
    "len( Node_State)"
   ]
  },
  {
   "cell_type": "code",
   "execution_count": null,
   "metadata": {},
   "outputs": [],
   "source": [
    "Nodes={0:Node_State}"
   ]
  },
  {
   "cell_type": "code",
   "execution_count": null,
   "metadata": {},
   "outputs": [],
   "source": [
    "Node_index=0;"
   ]
  },
  {
   "cell_type": "code",
   "execution_count": null,
   "metadata": {},
   "outputs": [],
   "source": [
    "def BlankTileLocation(CurrentNode):\n",
    "    for i in range (0,Node_State): \n",
    "        for j in range (0,Node_State.shape[1]):\n",
    "              if(CurrentNode[i][j]==0):\n",
    "                    return [i,j]"
   ]
  },
  {
   "cell_type": "code",
   "execution_count": null,
   "metadata": {},
   "outputs": [],
   "source": [
    "def ActionMoveLeft(CurrentNode):\n",
    "    [i ,j] = BlankTileLocation(CurrentNode)\n",
    "    if (j>0):\n",
    "        NewNode=np.copy(CurrentNode)\n",
    "        temp=NewNode[i][j-1]\n",
    "        NewNode[i][j-1]=NewNode[i][j]\n",
    "        NewNode[i][j]=temp\n",
    "        return [1,NewNode]\n",
    "    else:\n",
    "        return[0,CurrentNode]\n",
    "def ActionMoveRight(CurrentNode):\n",
    "    [i ,j] = BlankTileLocation(CurrentNode)\n",
    "    if (j<2):\n",
    "        NewNode=np.copy(CurrentNode)\n",
    "        temp=NewNode[i][j+1]\n",
    "        NewNode[i][j+1]=NewNode[i][j]\n",
    "        NewNode[i][j]=temp\n",
    "        return [1,NewNode]\n",
    "    else:\n",
    "        return[0,CurrentNode]\n",
    "def ActionMoveUp(CurrentNode):\n",
    "    [i ,j] = BlankTileLocation(CurrentNode)\n",
    "    if (i>0):\n",
    "        NewNode=np.copy(CurrentNode)\n",
    "        temp=NewNode[i-1][j]\n",
    "        NewNode[i-1][j]=NewNode[i][j]\n",
    "        NewNode[i][j]=temp\n",
    "        return [1,NewNode]\n",
    "    else:\n",
    "        return[0,CurrentNode]\n",
    "def ActionMoveDown(CurrentNode):\n",
    "    [i ,j] = BlankTileLocation(CurrentNode)\n",
    "    if (i<2):\n",
    "        NewNode=np.copy(CurrentNode)\n",
    "        temp=NewNode[i+1][j]\n",
    "        NewNode[i+1][j]=NewNode[i][j]\n",
    "        NewNode[i][j]=temp\n",
    "        return [1,NewNode]\n",
    "    else:\n",
    "        return[0,CurrentNode]\n",
    "    \n"
   ]
  },
  {
   "cell_type": "code",
   "execution_count": null,
   "metadata": {},
   "outputs": [],
   "source": [
    "[stat,NewNode]=ActionMoveLeft(Node_State)"
   ]
  },
  {
   "cell_type": "code",
   "execution_count": null,
   "metadata": {},
   "outputs": [],
   "source": [
    "NewNode"
   ]
  },
  {
   "cell_type": "code",
   "execution_count": null,
   "metadata": {},
   "outputs": [],
   "source": [
    "Node_State"
   ]
  },
  {
   "cell_type": "code",
   "execution_count": null,
   "metadata": {},
   "outputs": [],
   "source": [
    "def AddNode(NewNode):\n",
    "    if(NewNode not in Nodes.values()):\n",
    "            print(\"ff\")\n",
    "            Nodes[Node_index+1]=NewNode        \n",
    "    "
   ]
  },
  {
   "cell_type": "code",
   "execution_count": null,
   "metadata": {},
   "outputs": [],
   "source": [
    "Nodes.values()"
   ]
  },
  {
   "cell_type": "code",
   "execution_count": null,
   "metadata": {},
   "outputs": [],
   "source": [
    "AddNode(NewNode)"
   ]
  },
  {
   "cell_type": "code",
   "execution_count": null,
   "metadata": {},
   "outputs": [],
   "source": [
    "Nodes[Node_index+1]=NewNode"
   ]
  },
  {
   "cell_type": "code",
   "execution_count": null,
   "metadata": {},
   "outputs": [],
   "source": [
    "Nodes.values()"
   ]
  },
  {
   "cell_type": "code",
   "execution_count": null,
   "metadata": {},
   "outputs": [],
   "source": [
    "(NewNode in Nodes.values()).repeat"
   ]
  },
  {
   "cell_type": "code",
   "execution_count": null,
   "metadata": {},
   "outputs": [],
   "source": [
    "Node_state"
   ]
  },
  {
   "cell_type": "code",
   "execution_count": null,
   "metadata": {},
   "outputs": [],
   "source": []
  }
 ],
 "metadata": {
  "kernelspec": {
   "display_name": "Python 3",
   "language": "python",
   "name": "python3"
  },
  "language_info": {
   "codemirror_mode": {
    "name": "ipython",
    "version": 3
   },
   "file_extension": ".py",
   "mimetype": "text/x-python",
   "name": "python",
   "nbconvert_exporter": "python",
   "pygments_lexer": "ipython3",
   "version": "3.7.4"
  }
 },
 "nbformat": 4,
 "nbformat_minor": 2
}
